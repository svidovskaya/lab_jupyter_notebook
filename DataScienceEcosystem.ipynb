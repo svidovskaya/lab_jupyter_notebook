{
 "cells": [
  {
   "cell_type": "markdown",
   "id": "89fcef10-2a0a-4d47-afc2-f52cd7dff3c2",
   "metadata": {},
   "source": [
    "# Data Science Tools and Ecosystem"
   ]
  },
  {
   "cell_type": "markdown",
   "id": "a61f39af-5199-433a-8589-f803b1767c34",
   "metadata": {},
   "source": [
    "In this notebook, Data Science Tools and Ecosystem are summarized."
   ]
  },
  {
   "cell_type": "markdown",
   "id": "434e258f-7868-4561-91b3-95ffcaf93539",
   "metadata": {},
   "source": [
    "Some of the popular languages that Data Scientists use are:\n",
    "1. Python\n",
    "2. R\n",
    "3. Java\n",
    "4. JavaScript\n",
    "5. C/C++"
   ]
  },
  {
   "cell_type": "markdown",
   "id": "17b40f53-d158-4d87-a20d-2ce04b6386c7",
   "metadata": {},
   "source": [
    "Some of the commonly used libraries used by Data Scientists include:\n",
    "1. SciPy\n",
    "2. NumPy\n",
    "3. TensorFlow\n",
    "4. Scikit-learn"
   ]
  },
  {
   "cell_type": "markdown",
   "id": "abd448bd-9c63-4a95-90b8-87da2eb2e0b8",
   "metadata": {},
   "source": [
    "|Data Science Tools|\n",
    "|------------------|\n",
    "|Apache Spark|\n",
    "|Julia|\n",
    "|Jupyter Notebook|"
   ]
  },
  {
   "cell_type": "markdown",
   "id": "de3f9e0a-7a0e-40b2-83c2-235986fa337e",
   "metadata": {},
   "source": [
    "### Below are a few examples of evaluating arithmetic expressions in Python"
   ]
  },
  {
   "cell_type": "code",
   "execution_count": 2,
   "id": "7e5050aa-09d1-4b7e-adbf-a3588e11fdec",
   "metadata": {
    "tags": []
   },
   "outputs": [
    {
     "data": {
      "text/plain": [
       "17"
      ]
     },
     "execution_count": 2,
     "metadata": {},
     "output_type": "execute_result"
    }
   ],
   "source": [
    "# This a simple arithmetic expression to mutiply then add integers\n",
    "(3*4)+5"
   ]
  },
  {
   "cell_type": "code",
   "execution_count": 5,
   "id": "9233230d-0a54-49af-b8af-0a4f01a58963",
   "metadata": {
    "tags": []
   },
   "outputs": [
    {
     "name": "stdout",
     "output_type": "stream",
     "text": [
      "3.3333333333333335\n"
     ]
    }
   ],
   "source": [
    "# This will convert 200 minutes to hours by diving by 60\n",
    "h = 200/60\n",
    "print(h)"
   ]
  },
  {
   "cell_type": "markdown",
   "id": "df681523-4b4b-47c5-aa7a-bb997e8a7143",
   "metadata": {},
   "source": [
    "**Objectives:**\n",
    "- List popular languages for Data Science\n",
    "- List popular libraries used by Data Scientists\n",
    "- convert 200 minutes to hours by diving by 60\n",
    "- simple arithmetic expression to mutiply then add integers"
   ]
  },
  {
   "cell_type": "markdown",
   "id": "b84e58b3-2c40-4d55-9aae-381167c1170e",
   "metadata": {},
   "source": [
    "## Author\n",
    "Kateryna Svidovska\n"
   ]
  },
  {
   "cell_type": "code",
   "execution_count": null,
   "id": "7aacfb79-1524-40f8-8c55-4e6d2edab7b3",
   "metadata": {},
   "outputs": [],
   "source": []
  }
 ],
 "metadata": {
  "kernelspec": {
   "display_name": "Python",
   "language": "python",
   "name": "conda-env-python-py"
  },
  "language_info": {
   "codemirror_mode": {
    "name": "ipython",
    "version": 3
   },
   "file_extension": ".py",
   "mimetype": "text/x-python",
   "name": "python",
   "nbconvert_exporter": "python",
   "pygments_lexer": "ipython3",
   "version": "3.7.12"
  }
 },
 "nbformat": 4,
 "nbformat_minor": 5
}
